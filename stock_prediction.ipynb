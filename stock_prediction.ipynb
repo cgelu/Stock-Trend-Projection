{
 "cells": [
  {
   "cell_type": "code",
   "execution_count": null,
   "metadata": {},
   "outputs": [],
   "source": [
    "import yfinance as yf\n",
    "df = yf.download('AAPL', start='2020-01-01', end='2024-12-31')\n",
    "df.to_csv('aPPle_stock.csv')"
   ]
  },
  {
   "cell_type": "code",
   "execution_count": null,
   "metadata": {},
   "outputs": [],
   "source": [
    "import matplotlib.pyplot as Plt\n",
    "df['Close'].plot(figsize=(12,6))\n",
    "Plt.title(\"Apple Stock Price\")\n",
    "Plt.ylabel(\"Close Price\")\n",
    "Plt.grid()\n",
    "Plt.show()"
   ]
  },
  {
   "cell_type": "code",
   "execution_count": null,
   "metadata": {},
   "outputs": [],
   "source": [
    "df[('Tomorrow', '')] = df[('Close', 'AAPL')].shift(-1)\n",
    "df[('Target', '')] = (df[('Tomorrow', '')] > df[('Close', 'AAPL')]).astype(int)\n",
    "\n",
    "df[('MA5', '')] = df[('Close', 'AAPL')].rolling(window=5).mean()\n",
    "df[('MA10', '')] = df[('Close', 'AAPL')].rolling(window=10).mean()\n",
    "df[('Volatility', '')] = df[('Close', 'AAPL')].rolling(window=10).std()\n",
    "\n",
    "df = df.dropna(subset=[('MA5', ''), ('MA10', ''), ('Volatility', '')])\n",
    "\n",
    "print(df.head())"
   ]
  },
  {
   "cell_type": "code",
   "execution_count": null,
   "metadata": {},
   "outputs": [],
   "source": [
    "from sklearn.model_selection import train_test_split\n",
    "from sklearn.ensemble import RandomForestClassifier\n",
    "from sklearn.metrics import classification_report\n",
    "\n",
    "features = ['MA5', 'MA10', 'Volatility', 'Volume']\n",
    "df = df.dropna()\n",
    "X = df[features]\n",
    "y = df['Target']\n",
    "\n",
    "X_train, X_test, y_train, y_test = train_test_split(X, y, test_size=0.2, shuffle=False)\n",
    "\n",
    "model = RandomForestClassifier()\n",
    "model.fit(X_train, y_train)\n",
    "\n",
    "preds = model.predict(X_test)\n",
    "print(classification_report(y_test, preds))"
   ]
  },
  {
   "cell_type": "code",
   "execution_count": null,
   "metadata": {},
   "outputs": [],
   "source": [
    "import seaborn as sns\n",
    "sns.heatmap(df.corr(), annot=True)"
   ]
  }
 ],
 "metadata": {
  "kernelspec": {
   "display_name": "Python 3",
   "language": "python",
   "name": "python3"
  },
  "language_info": {
   "codemirror_mode": {
    "name": "ipython",
    "version": 3
   },
   "file_extension": ".py",
   "mimetype": "text/x-python",
   "name": "python",
   "nbconvert_exporter": "python",
   "pygments_lexer": "ipython3",
   "version": "3.12.7"
  }
 },
 "nbformat": 4,
 "nbformat_minor": 2
}
